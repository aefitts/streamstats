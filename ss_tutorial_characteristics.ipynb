{
 "cells": [
  {
   "cell_type": "markdown",
   "id": "b3050a10-5634-45ff-a9f4-bdaca314918d",
   "metadata": {},
   "source": [
    "# **View Watershed Charcteristics Using StreamStats**"
   ]
  },
  {
   "cell_type": "markdown",
   "id": "fa6e0812-37e6-467f-91c3-e6bb4ce90862",
   "metadata": {},
   "source": [
    "### Import Packages"
   ]
  },
  {
   "cell_type": "markdown",
   "id": "b450d534-cee2-4d04-8de6-f07a49281d73",
   "metadata": {},
   "source": [
    "To get started, download the necessary Python packages. The``GeoPandas`` package is an open source project that assists in working with geospatial data in Python. Learn more about [GeoPandas](https://geopandas.org/gallery/index.html)."
   ]
  },
  {
   "cell_type": "code",
   "execution_count": 1,
   "id": "39297a83-9ff7-45ac-a037-ee896a4d8e27",
   "metadata": {},
   "outputs": [],
   "source": [
    "import streamstats\n",
    "import geopandas as gpd"
   ]
  },
  {
   "cell_type": "markdown",
   "id": "81830bfc-c10a-414a-b81c-534fb05a050c",
   "metadata": {},
   "source": [
    "### Identify watershed"
   ]
  },
  {
   "cell_type": "markdown",
   "id": "0d19e6e9-f8f1-4aeb-928c-99d0465c4efb",
   "metadata": {},
   "source": [
    "Identify a spatial point using coordinate system (e.g., longitude and latitude cordinates). Assign cordinates to variables ``lat`` and ``lon``. Using StreamStat's data, assign location to a variable that will represent the delineated watershed using the USGS StreamStats API. "
   ]
  },
  {
   "cell_type": "code",
   "execution_count": 2,
   "id": "6b66852b-9bf6-4df5-a258-ff184b0c2b5f",
   "metadata": {},
   "outputs": [],
   "source": [
    "lat,lon = 39.966256, -105.482227\n",
    "ws = streamstats.Watershed(lat=lat, lon=lon)"
   ]
  },
  {
   "cell_type": "markdown",
   "id": "e16aec55-a836-49bc-b3ff-8eab92d5ddbf",
   "metadata": {},
   "source": [
    "### Find the Hyrdologic Unit Code (HUC) of the watershed"
   ]
  },
  {
   "cell_type": "markdown",
   "id": "af34a3c5-250e-48b0-9479-92b6658bc8f7",
   "metadata": {},
   "source": [
    "The USGS delineates watershed using a series of numbers based a hierarchal region system. Every watershed is assigned a series of numbers called the hydrological unit code (HUC). StreamStats uses HUC to identify and delineate watersheds. The ``ws.huc`` function will return the HUC of the identified watershed."
   ]
  },
  {
   "cell_type": "code",
   "execution_count": 3,
   "id": "aeff0692-9d68-4c06-a93e-1a8ec72e7324",
   "metadata": {},
   "outputs": [
    {
     "data": {
      "text/plain": [
       "'10190005'"
      ]
     },
     "execution_count": 3,
     "metadata": {},
     "output_type": "execute_result"
    }
   ],
   "source": [
    "ws.huc"
   ]
  },
  {
   "cell_type": "markdown",
   "id": "cbab6b67-436d-487a-83f1-d23af83abc05",
   "metadata": {},
   "source": [
    "### Find Characteristics of the Watershed"
   ]
  },
  {
   "cell_type": "markdown",
   "id": "466038bc-3ea7-43bf-a419-19013556d9f0",
   "metadata": {},
   "source": [
    "The function ``ws.characteristics`` will return the available basin characteristics for the identified watershed.In order to return information on a specific characteristic, use function ``ws.get_characteristic('StatLabel')``.\n",
    "\n",
    "[Learn more](https://streamstatsags.cr.usgs.gov/ss_defs/basin_char_defs.aspx) about StreamStats Basin Characteristic Definitions."
   ]
  },
  {
   "cell_type": "code",
   "execution_count": 4,
   "id": "f9208bf9-a474-4dea-b96e-06e78826d08e",
   "metadata": {},
   "outputs": [
    {
     "data": {
      "text/plain": [
       "{'ID': 0,\n",
       " 'name': 'Drainage Area',\n",
       " 'description': 'Area that drains to a point on a stream',\n",
       " 'code': 'DRNAREA',\n",
       " 'unit': 'square miles',\n",
       " 'value': 38.6}"
      ]
     },
     "execution_count": 4,
     "metadata": {},
     "output_type": "execute_result"
    }
   ],
   "source": [
    "#Available characteristics\n",
    "ws.characteristics\n",
    "\n",
    "#Specific characteristics\n",
    "ws.get_characteristic('DRNAREA')"
   ]
  },
  {
   "cell_type": "code",
   "execution_count": null,
   "id": "e6311211-7d31-4a5c-9dcf-a8fe3080a961",
   "metadata": {},
   "outputs": [],
   "source": []
  },
  {
   "cell_type": "code",
   "execution_count": null,
   "id": "57d0b5b2-3e52-4786-b033-1e2dd6a1dcd5",
   "metadata": {},
   "outputs": [],
   "source": []
  }
 ],
 "metadata": {
  "kernelspec": {
   "display_name": "Python 3",
   "language": "python",
   "name": "python3"
  },
  "language_info": {
   "codemirror_mode": {
    "name": "ipython",
    "version": 3
   },
   "file_extension": ".py",
   "mimetype": "text/x-python",
   "name": "python",
   "nbconvert_exporter": "python",
   "pygments_lexer": "ipython3",
   "version": "3.7.6"
  }
 },
 "nbformat": 4,
 "nbformat_minor": 5
}
